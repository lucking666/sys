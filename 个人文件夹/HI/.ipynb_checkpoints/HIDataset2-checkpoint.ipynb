{
 "cells": [
  {
   "cell_type": "code",
   "execution_count": 9,
   "id": "15f4f6af",
   "metadata": {},
   "outputs": [],
   "source": [
    "import numpy as np\n",
    "import pandas as pd\n",
    "import matplotlib.pyplot as plt\n",
    "from sklearn import svm"
   ]
  },
  {
   "cell_type": "code",
   "execution_count": 10,
   "id": "0c9daab0",
   "metadata": {},
   "outputs": [],
   "source": [
    "feature1=pd.read_csv('Area10_100.csv')#第十次循环和第一百次循环的电压差之和\n",
    "feature2=pd.read_csv('Area100_150.csv')#第十次循环和第一百次循环的电压差之和\n",
    "label=pd.read_csv('Cycle_life.csv')#三个电池数据集的循环寿命"
   ]
  },
  {
   "cell_type": "code",
   "execution_count": 11,
   "id": "2f33100c",
   "metadata": {},
   "outputs": [],
   "source": [
    "feature1=feature1.iloc[:,-1]\n",
    "feature2=feature2.iloc[:,-1]"
   ]
  },
  {
   "cell_type": "code",
   "execution_count": 12,
   "id": "c4dac31f",
   "metadata": {},
   "outputs": [
    {
     "name": "stdout",
     "output_type": "stream",
     "text": [
      "            0         0\n",
      "0    0.002164  0.008169\n",
      "1    0.004189  0.008618\n",
      "2    0.004242  0.008344\n",
      "3    0.011217  0.010584\n",
      "4    0.007987  0.009057\n",
      "..        ...       ...\n",
      "119  0.012306  0.011697\n",
      "120  0.016484  0.011517\n",
      "121  0.014701  0.007465\n",
      "122  0.016950  0.008597\n",
      "123  0.011296  0.004812\n",
      "\n",
      "[124 rows x 2 columns]\n",
      "0      3.267641\n",
      "1      3.334454\n",
      "2      3.349666\n",
      "3      3.156549\n",
      "4      3.232742\n",
      "         ...   \n",
      "119    3.062958\n",
      "120    2.900913\n",
      "121    2.895423\n",
      "122    2.973128\n",
      "123    3.255514\n",
      "Name: 0, Length: 124, dtype: float64\n"
     ]
    }
   ],
   "source": [
    "feature= pd.concat([feature1, feature2],axis=1)\n",
    "label=label.iloc[:,-1]\n",
    "label=np.log10(label)\n",
    "\n",
    "print(feature)\n",
    "print(label)"
   ]
  },
  {
   "cell_type": "code",
   "execution_count": 13,
   "id": "551e5864",
   "metadata": {},
   "outputs": [],
   "source": [
    "dic={'F1':feature1,\n",
    "     'F2':feature2,\n",
    "     'cyclelife':label\n",
    "    }\n",
    "df=pd.DataFrame(dic)\n"
   ]
  },
  {
   "cell_type": "code",
   "execution_count": 14,
   "id": "522ab63a",
   "metadata": {},
   "outputs": [
    {
     "name": "stdout",
     "output_type": "stream",
     "text": [
      "相关系数： -0.7842766999664926\n"
     ]
    }
   ],
   "source": [
    "#Spearman系数\n",
    "import numpy as np\n",
    "import pandas as pd\n",
    "import scipy.stats as stats\n",
    "def calculate_spearman_correlation(X, Y):\n",
    "    r,p=stats.spearmanr(X, Y)\n",
    "    return r,p\n",
    "\n",
    "r,p=calculate_spearman_correlation(df['F1'],df['cyclelife'])\n",
    "print(\"相关系数：\",r)\n",
    "\n",
    "# feature1 feature2相关系数\n",
    "# -0.7842766999664926,-0.899444523235248\n",
    "# feature1_scale feature2_scale相关系数\n",
    "# -0.7842766999664926,-0.899444523235248\n",
    "# feature1log feature2log相关系数\n",
    "# -0.7842766999664926,-0.899444523235248"
   ]
  },
  {
   "cell_type": "code",
   "execution_count": 15,
   "id": "d3cba716",
   "metadata": {},
   "outputs": [
    {
     "data": {
      "text/plain": [
       "array([[0.04582555, 0.05586922, 2.68752896],\n",
       "       [0.01800653, 0.00979989, 2.97081161],\n",
       "       [0.01648426, 0.01151662, 2.90091307],\n",
       "       [0.16773222, 0.13380464, 2.47712125],\n",
       "       [0.01648858, 0.00914085, 2.99519629],\n",
       "       [0.02181703, 0.0083269 , 3.05918462],\n",
       "       [0.01694987, 0.00859707, 2.97312785],\n",
       "       [0.0158619 , 0.0090499 , 3.10856502],\n",
       "       [0.02532407, 0.04161964, 2.6946052 ],\n",
       "       [0.05318677, 0.04218938, 2.68930886],\n",
       "       [0.01666244, 0.01325072, 3.11892575],\n",
       "       [0.02895969, 0.02816393, 2.72835378],\n",
       "       [0.02993725, 0.03056749, 2.6794279 ],\n",
       "       [0.02117035, 0.02142651, 2.85308953],\n",
       "       [0.01890487, 0.00814882, 3.04727487],\n",
       "       [0.03790525, 0.03688797, 2.66558099],\n",
       "       [0.06526348, 0.03393533, 2.8876173 ],\n",
       "       [0.03750845, 0.04007397, 2.69810055],\n",
       "       [0.02800145, 0.02900795, 2.71516736],\n",
       "       [0.02179791, 0.01113702, 2.91803034],\n",
       "       [0.03881561, 0.03452788, 2.68574174],\n",
       "       [0.01873181, 0.00785861, 3.02653326],\n",
       "       [0.02925747, 0.03672073, 2.69372695],\n",
       "       [0.0169704 , 0.00993841, 3.01199311],\n",
       "       [0.05426062, 0.04082697, 2.72181062],\n",
       "       [0.03547276, 0.03118528, 2.66181269],\n",
       "       [0.01262147, 0.00406621, 3.26387268],\n",
       "       [0.02018894, 0.01128544, 2.93348729],\n",
       "       [0.01962515, 0.0098689 , 3.06370856],\n",
       "       [0.03620097, 0.03269463, 2.68752896],\n",
       "       [0.02026726, 0.01104436, 2.9652017 ],\n",
       "       [0.02292609, 0.029259  , 2.70671778],\n",
       "       [0.02819391, 0.01305437, 2.91222206],\n",
       "       [0.01581323, 0.00575505, 3.28668097],\n",
       "       [0.0226242 , 0.02278595, 2.69810055],\n",
       "       [0.07767601, 0.05267674, 2.66370093],\n",
       "       [0.02667293, 0.03115738, 2.63245729],\n",
       "       [0.04414957, 0.03704388, 2.66464198],\n",
       "       [0.08001437, 0.06237976, 2.66086548],\n",
       "       [0.02401279, 0.01098797, 2.94250411],\n",
       "       [0.30617158, 0.32368542, 2.17026172],\n",
       "       [0.01744103, 0.00620557, 3.00389117],\n",
       "       [0.01088803, 0.00387672, 3.2143139 ],\n",
       "       [0.02768484, 0.03436938, 2.68214508],\n",
       "       [0.0293708 , 0.03897352, 2.67024585],\n",
       "       [0.01230613, 0.01169656, 3.06295783],\n",
       "       [0.01129634, 0.00481198, 3.25551371],\n",
       "       [0.02228898, 0.00862665, 3.01661555],\n",
       "       [0.09798035, 0.07241743, 2.7084209 ],\n",
       "       [0.08077293, 0.04274702, 2.82412583],\n",
       "       [0.02734982, 0.02778238, 2.71600334],\n",
       "       [0.0374657 , 0.03993413, 2.71011737],\n",
       "       [0.06670153, 0.06125201, 2.64738297],\n",
       "       [0.03442089, 0.03416852, 2.66745295],\n",
       "       [0.03449097, 0.03624959, 2.70070372],\n",
       "       [0.04797421, 0.04198643, 2.74896286],\n",
       "       [0.01379   , 0.0065119 , 3.03261876],\n",
       "       [0.04276237, 0.0339866 , 2.63245729],\n",
       "       [0.03751109, 0.03456298, 2.6599162 ],\n",
       "       [0.01964061, 0.01100343, 2.91009055],\n",
       "       [0.08304253, 0.04641085, 2.73319727],\n",
       "       [0.014701  , 0.00746539, 2.89542255],\n",
       "       [0.03507446, 0.03663506, 2.68124124],\n",
       "       [0.01666158, 0.00822918, 3.02036128],\n",
       "       [0.07734424, 0.05749171, 2.68394713],\n",
       "       [0.0242289 , 0.01084269, 3.00086772],\n",
       "       [0.02754948, 0.01408196, 2.86391738],\n",
       "       [0.02363925, 0.00849316, 3.06258198],\n",
       "       [0.01899296, 0.01188152, 2.93348729],\n",
       "       [0.03499469, 0.03781593, 2.66838592],\n",
       "       [0.02153107, 0.02655669, 2.69722934],\n",
       "       [0.12835953, 0.11385663, 2.52504481],\n",
       "       [0.02487084, 0.00944314, 2.96941591],\n",
       "       [0.02139232, 0.0127589 , 2.91169016],\n",
       "       [0.01923935, 0.00921907, 3.03862016],\n",
       "       [0.03172143, 0.05038548, 2.64147411],\n",
       "       [0.04575543, 0.0431692 , 2.67851838],\n",
       "       [0.04548461, 0.05165158, 2.67302091],\n",
       "       [0.01941793, 0.01012467, 2.92941893],\n",
       "       [0.04186387, 0.04881268, 2.66370093],\n",
       "       [0.01959729, 0.00955789, 2.91803034],\n",
       "       [0.01605993, 0.00944016, 2.91645395],\n",
       "       [0.02809246, 0.0268676 , 2.6919651 ]])"
      ]
     },
     "execution_count": 15,
     "metadata": {},
     "output_type": "execute_result"
    }
   ],
   "source": [
    "from sklearn.utils import shuffle\n",
    "\n",
    "data= shuffle(df.loc[41:,:])\n",
    "data=data.values\n",
    "data"
   ]
  },
  {
   "cell_type": "code",
   "execution_count": 16,
   "id": "26a8fb52",
   "metadata": {},
   "outputs": [
    {
     "data": {
      "text/plain": [
       "array([2.68752896, 2.97081161, 2.90091307, 2.47712125, 2.99519629,\n",
       "       3.05918462, 2.97312785, 3.10856502, 2.6946052 , 2.68930886,\n",
       "       3.11892575, 2.72835378, 2.6794279 , 2.85308953, 3.04727487,\n",
       "       2.66558099, 2.8876173 , 2.69810055, 2.71516736, 2.91803034,\n",
       "       2.68574174, 3.02653326, 2.69372695, 3.01199311, 2.72181062,\n",
       "       2.66181269, 3.26387268, 2.93348729, 3.06370856, 2.68752896,\n",
       "       2.9652017 , 2.70671778, 2.91222206, 3.28668097, 2.69810055,\n",
       "       2.66370093, 2.63245729, 2.66464198, 2.66086548, 2.94250411,\n",
       "       2.17026172, 3.00389117, 3.2143139 , 2.68214508, 2.67024585,\n",
       "       3.06295783, 3.25551371, 3.01661555, 2.7084209 , 2.82412583,\n",
       "       2.71600334, 2.71011737, 2.64738297, 2.66745295, 2.70070372,\n",
       "       2.74896286, 3.03261876, 2.63245729, 2.6599162 , 2.91009055,\n",
       "       2.73319727, 2.89542255, 2.68124124, 3.02036128, 2.68394713,\n",
       "       3.00086772, 2.86391738, 3.06258198, 2.93348729, 2.66838592])"
      ]
     },
     "execution_count": 16,
     "metadata": {},
     "output_type": "execute_result"
    }
   ],
   "source": [
    "data[:70,2]"
   ]
  },
  {
   "cell_type": "code",
   "execution_count": 17,
   "id": "9ec4f42b",
   "metadata": {},
   "outputs": [],
   "source": [
    "from sklearn.model_selection import train_test_split\n",
    "\n",
    "\n",
    "X_train,X_test,y_train,y_test = data[:70,:2],data[70:,:2],data[:70,2],data[70:,2]\n",
    "\n",
    "# train_data：所要划分的样本特征集\n",
    "# train_target：所要划分的样本结果\n",
    "# test_size：样本占比，如果是整数的话就是样本的数量\n",
    "# random_state：是随机数的种子。\n",
    "# 随机数种子：其实就是该组随机数的编号，在需要重复试验的时候，保证得到一组一样的随机数。比如你每次都填1，其他参数一样的情况下你得到的随机数组是一样的。但填0或不填，每次都会不一样"
   ]
  },
  {
   "cell_type": "code",
   "execution_count": 18,
   "id": "09c19d3a",
   "metadata": {},
   "outputs": [
    {
     "name": "stdout",
     "output_type": "stream",
     "text": [
      "(70, 2)\n",
      "(70,)\n",
      "(13, 2)\n",
      "(13,)\n"
     ]
    }
   ],
   "source": [
    "print(X_train.shape)\n",
    "print(y_train.shape)\n",
    "print(X_test.shape)\n",
    "print(y_test.shape)"
   ]
  },
  {
   "cell_type": "code",
   "execution_count": 23,
   "id": "3ab9dccf",
   "metadata": {},
   "outputs": [],
   "source": [
    "from sklearn.linear_model import LinearRegression,Ridge,Lasso\n",
    "import xgboost as xgb\n",
    "from sklearn.neural_network import MLPRegressor\n",
    "\n",
    "# model1=svm.SVR()\n",
    "# model1.fit(X_train,y_train)\n",
    "# y_pred=model1.predict(X_test)\n",
    "\n",
    "# lr=LinearRegression().fit(X_train,y_train)\n",
    "# y_pred=lr.predict(X_test)\n",
    "\n",
    "\n",
    "# xgb = xgb.XGBRegressor()\n",
    "# xgb.fit(X_train, y_train)\n",
    "# y_pred=xgb.predict(X_test)\n",
    "\n",
    "mlp=MLPRegressor(hidden_layer_sizes = (500,500,500))\n",
    "mlp.fit(X_train,y_train)\n",
    "y_pred=mlp.predict(X_test)\n"
   ]
  },
  {
   "cell_type": "code",
   "execution_count": 24,
   "id": "14cb4cf6",
   "metadata": {},
   "outputs": [
    {
     "name": "stdout",
     "output_type": "stream",
     "text": [
      "mae:0.1442145737882085,rmse:0.1568435512092833\n"
     ]
    }
   ],
   "source": [
    "from math import sqrt\n",
    "from sklearn.metrics import mean_absolute_error\n",
    "from sklearn.metrics import mean_squared_error\n",
    "\n",
    "\n",
    "def evaluation(y_test, y_predict):\n",
    "    mae = mean_absolute_error(y_test, y_predict)\n",
    "    mse = mean_squared_error(y_test, y_predict)\n",
    "    rmse = sqrt(mean_squared_error(y_test, y_predict))\n",
    "    return mae, rmse\n",
    "\n",
    "mae,rmse=evaluation(y_test, y_pred)\n",
    "print('mae:{},rmse:{}'.format(mae,rmse))"
   ]
  },
  {
   "cell_type": "code",
   "execution_count": null,
   "id": "05707ecf",
   "metadata": {},
   "outputs": [],
   "source": [
    "LR：mae:0.06113834935257261,rmse:0.07572143167753048\n",
    "XGB：mae:0.0661598320316776,rmse:0.08944699681710926\n",
    "MLE：mae:0.1442145737882085,rmse:0.1568435512092833"
   ]
  },
  {
   "cell_type": "code",
   "execution_count": null,
   "id": "fea305fc",
   "metadata": {},
   "outputs": [],
   "source": [
    "#取对数\n",
    "# 线性回归模型:\n",
    "# mae:0.08575466092804905,rmse:0.09938170907406266\n",
    "# SVR模型:\n",
    "# mae:0.10048895463910852,rmse:0.14430292194504338\n",
    "\n",
    "\n",
    "# 归一化\n",
    "# 线性模型：\n",
    "# mae:0.14554254643808506,rmse:0.15959797490667044\n",
    "#100-150：mae:0.17576245618656097,rmse:0.35135613328270143\n",
    "# SVR模型:\n",
    "# 10-100：mae:0.05551163344347185,rmse:0.10401392864832236\n",
    "#100-150：mae:0.10294093245641811,rmse:0.1406126182119327\n",
    "#使用两个特征的结果 mae:0.07528818796971945,rmse:0.1334187348245085\n",
    "#SVR对异常值比较敏感\n",
    "# XGB模型：\n",
    "#mae:0.04316952009208106,rmse:0.056111260204743885,两个特征都用"
   ]
  },
  {
   "cell_type": "code",
   "execution_count": 100,
   "id": "e66bd9f5",
   "metadata": {},
   "outputs": [],
   "source": [
    "# print(y_pred)\n",
    "# print(y_test)"
   ]
  },
  {
   "cell_type": "code",
   "execution_count": null,
   "id": "20f5b52a",
   "metadata": {},
   "outputs": [],
   "source": []
  }
 ],
 "metadata": {
  "kernelspec": {
   "display_name": "Python 3 (ipykernel)",
   "language": "python",
   "name": "python3"
  },
  "language_info": {
   "codemirror_mode": {
    "name": "ipython",
    "version": 3
   },
   "file_extension": ".py",
   "mimetype": "text/x-python",
   "name": "python",
   "nbconvert_exporter": "python",
   "pygments_lexer": "ipython3",
   "version": "3.10.9"
  }
 },
 "nbformat": 4,
 "nbformat_minor": 5
}
