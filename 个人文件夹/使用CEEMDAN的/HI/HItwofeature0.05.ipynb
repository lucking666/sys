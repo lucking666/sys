{
 "cells": [
  {
   "cell_type": "code",
   "execution_count": 1,
   "id": "15f4f6af",
   "metadata": {},
   "outputs": [],
   "source": [
    "import numpy as np\n",
    "import pandas as pd\n",
    "import matplotlib.pyplot as plt\n",
    "from sklearn import svm"
   ]
  },
  {
   "cell_type": "code",
   "execution_count": 2,
   "id": "0c9daab0",
   "metadata": {},
   "outputs": [],
   "source": [
    "feature1=pd.read_csv('Area10_100.csv')#第十次循环和第一百次循环的电压差之和\n",
    "feature2=pd.read_csv('Area100_150.csv')#第十次循环和第一百次循环的电压差之和\n",
    "label=pd.read_csv('Cycle_life.csv')#三个电池数据集的循环寿命\n",
    "\n"
   ]
  },
  {
   "cell_type": "code",
   "execution_count": 3,
   "id": "2f33100c",
   "metadata": {},
   "outputs": [
    {
     "data": {
      "text/plain": [
       "0      0.008169\n",
       "1      0.008618\n",
       "2      0.008344\n",
       "3      0.010584\n",
       "4      0.009057\n",
       "         ...   \n",
       "119    0.011697\n",
       "120    0.011517\n",
       "121    0.007465\n",
       "122    0.008597\n",
       "123    0.004812\n",
       "Name: 0, Length: 124, dtype: float64"
      ]
     },
     "execution_count": 3,
     "metadata": {},
     "output_type": "execute_result"
    }
   ],
   "source": [
    "feature2.iloc[:,-1]"
   ]
  },
  {
   "cell_type": "code",
   "execution_count": 3,
   "id": "c4dac31f",
   "metadata": {},
   "outputs": [],
   "source": [
    "feature= pd.concat([feature1, feature2],axis=1)"
   ]
  },
  {
   "cell_type": "code",
   "execution_count": 6,
   "id": "0b7d66c9",
   "metadata": {},
   "outputs": [],
   "source": [
    "import math\n",
    "\n",
    "labellog=[]\n",
    "for i in label.iloc[:,-1]:\n",
    "    labellog.append(math.log(i,10))\n",
    "    \n",
    "\n",
    "featurelog=[]\n",
    "for i in feature.iloc[:,-1]:\n",
    "    featurelog.append(math.log(i,10))"
   ]
  },
  {
   "cell_type": "code",
   "execution_count": 4,
   "id": "89363a2d",
   "metadata": {},
   "outputs": [],
   "source": [
    "from sklearn.preprocessing import MinMaxScaler\n",
    "def normalization(data):\n",
    "\n",
    "    scaler = MinMaxScaler()\n",
    "    data=data.values   # 将pd的系列格式转换为np的数组格式\n",
    "    data=scaler.fit_transform(np.array(data).reshape(-1,1))  #\n",
    "    return data\n",
    "\n",
    "\n",
    "feature1_scale=normalization(feature1.iloc[:,-1])\n",
    "feature2_scale=normalization(feature2.iloc[:,-1])\n",
    "label_scale=normalization(label.iloc[:,-1])\n"
   ]
  },
  {
   "cell_type": "code",
   "execution_count": 5,
   "id": "fe17f1d8",
   "metadata": {},
   "outputs": [
    {
     "name": "stdout",
     "output_type": "stream",
     "text": [
      "(124, 2)\n"
     ]
    }
   ],
   "source": [
    "feature_scale= np.append(feature1_scale, feature2_scale, axis=1)\n",
    "print(feature_scale.shape)"
   ]
  },
  {
   "cell_type": "code",
   "execution_count": 9,
   "id": "522ab63a",
   "metadata": {},
   "outputs": [
    {
     "name": "stdout",
     "output_type": "stream",
     "text": [
      "相关系数： [[ 1.          0.87932022 -0.7842767 ]\n",
      " [ 0.87932022  1.         -0.89944452]\n",
      " [-0.7842767  -0.89944452  1.        ]]\n"
     ]
    }
   ],
   "source": [
    "#Spearman系数\n",
    "import numpy as np\n",
    "import pandas as pd\n",
    "import scipy.stats as stats\n",
    "def calculate_spearman_correlation(X, Y):\n",
    "    r,p=stats.spearmanr(X, Y)\n",
    "    return r,p\n",
    "\n",
    "r,p=calculate_spearman_correlation(feature_scale,label_scale)\n",
    "print(\"相关系数：\",r)\n",
    "\n",
    "# 使用面积的对特征和标签都没有进行处理的和都取对数的相关性一毛一样归一化也是\n",
    "# 相关系数： -0.7842766999664926\n",
    "#面积归一化：100-150循环：相关系数： -0.899444523235248"
   ]
  },
  {
   "cell_type": "code",
   "execution_count": 147,
   "id": "20834f73",
   "metadata": {},
   "outputs": [],
   "source": [
    "# #相关性分析相关系数\n",
    "# from scipy.stats import pearsonr\n",
    "# import numpy as np\n",
    "\n",
    "# pc = pearsonr(feature_scale,label_scale)\n",
    "\n",
    "# print(\"相关系数：\",pc[0])\n",
    "# print(\"显著性水平：\",pc[1])\n",
    "# #皮尔逊相关系数\n",
    "# # 使用trapz方法求得面积HI和循环寿命相关性\n",
    "# # 相关系数： -0.3330590845097132\n",
    "# # 显著性水平： 0.00015699861600092712\n",
    "# # 使用对label进行对数变换相关性\n",
    "# # 相关系数： -0.4268528059239851\n",
    "# # 显著性水平： 7.663700860852389e-07\n",
    "# # 对feature和label都取对数\n",
    "# # 相关系数： -0.7642849874683177\n",
    "# # 显著性水平： 5.3514377043141e-25\n",
    "# # mae:0.10048895463910852,rmse:0.14430292194504338\n",
    "# # 只对feature取对数HI\n",
    "# # 相关系数： -0.7396712673862962\n",
    "# # 显著性水平： 1.0030562335241996e-22\n",
    "\n",
    "\n",
    "# # 使用HI（sum）求得的结果\n",
    "# # 两者都取对数\n",
    "# # 相关系数： 0.4194667088183733\n",
    "# # 显著性水平： 1.239259248417279e-06"
   ]
  },
  {
   "cell_type": "code",
   "execution_count": 6,
   "id": "9ec4f42b",
   "metadata": {},
   "outputs": [],
   "source": [
    "from sklearn.model_selection import train_test_split\n",
    "\n",
    "num=31\n",
    "X_train,X_test=feature_scale[0:num,:],feature_scale[31:42,:]\n",
    "y_train,y_test =np.array(label_scale).reshape(-1,1)[0:num,:],np.array(label_scale).reshape(-1,1)[31:42,:]\n",
    "# train_data：所要划分的样本特征集\n",
    "# train_target：所要划分的样本结果\n",
    "# test_size：样本占比，如果是整数的话就是样本的数量\n",
    "# random_state：是随机数的种子。\n",
    "# 随机数种子：其实就是该组随机数的编号，在需要重复试验的时候，保证得到一组一样的随机数。比如你每次都填1，其他参数一样的情况下你得到的随机数组是一样的。但填0或不填，每次都会不一样。"
   ]
  },
  {
   "cell_type": "code",
   "execution_count": 7,
   "id": "09c19d3a",
   "metadata": {},
   "outputs": [
    {
     "name": "stdout",
     "output_type": "stream",
     "text": [
      "[[0.         0.01342028]\n",
      " [0.00417013 0.01482458]\n",
      " [0.00427964 0.01396788]\n",
      " [0.01864538 0.02097338]\n",
      " [0.01199272 0.01619842]\n",
      " [0.0340648  0.01434635]\n",
      " [0.05412959 0.06285428]\n",
      " [0.05477569 0.04746682]\n",
      " [0.030182   0.03824051]\n",
      " [0.01611862 0.03363232]\n",
      " [0.029737   0.03268867]\n",
      " [0.02616351 0.03641303]\n",
      " [0.03286806 0.0321655 ]\n",
      " [0.02519535 0.03305487]\n",
      " [1.         0.09155641]\n",
      " [0.05777536 0.06194411]\n",
      " [0.15805012 0.15934552]\n",
      " [0.12885543 0.12414421]\n",
      " [0.04195582 0.0272229 ]\n",
      " [0.04005165 0.03398212]\n",
      " [0.03769138 0.03715685]\n",
      " [0.05863056 0.04823314]\n",
      " [0.05065619 0.04478185]\n",
      " [0.05368866 0.04356374]\n",
      " [0.05201984 0.04411339]\n",
      " [0.05901478 0.05759467]\n",
      " [0.06439636 0.05222903]\n",
      " [0.06710695 0.05934889]\n",
      " [0.07286379 0.06061164]\n",
      " [0.04832046 0.04023623]\n",
      " [0.05405468 0.04837053]]\n",
      "[[0.81570129]\n",
      " [0.96314026]\n",
      " [1.        ]\n",
      " [0.61560555]\n",
      " [0.74724749]\n",
      " [0.44327429]\n",
      " [0.2336046 ]\n",
      " [0.34561991]\n",
      " [0.43370034]\n",
      " [0.30636668]\n",
      " [0.35040689]\n",
      " [0.27333652]\n",
      " [0.34179033]\n",
      " [0.33939684]\n",
      " [0.25993298]\n",
      " [0.30636668]\n",
      " [0.18477741]\n",
      " [0.19674485]\n",
      " [0.41455242]\n",
      " [0.41598851]\n",
      " [0.33796075]\n",
      " [0.34561991]\n",
      " [0.33221637]\n",
      " [0.34083293]\n",
      " [0.36811872]\n",
      " [0.26854955]\n",
      " [0.3484921 ]\n",
      " [0.2790809 ]\n",
      " [0.29152705]\n",
      " [0.28434658]\n",
      " [0.26567736]]\n"
     ]
    }
   ],
   "source": [
    "print(X_train)\n",
    "print(y_train)"
   ]
  },
  {
   "cell_type": "code",
   "execution_count": 12,
   "id": "3ab9dccf",
   "metadata": {},
   "outputs": [],
   "source": [
    "from sklearn.linear_model import LinearRegression,Ridge,Lasso\n",
    "import xgboost as xgb\n",
    "\n",
    "\n",
    "# model1=svm.SVR()\n",
    "# model1.fit(X_train,y_train)\n",
    "# y_pred=model1.predict(X_test)\n",
    "\n",
    "# lr=LinearRegression().fit(X_train,y_train)\n",
    "# y_pred=lr.predict(X_test)\n",
    "\n",
    "\n",
    "xgb = xgb.XGBRegressor()\n",
    "xgb.fit(X_train, y_train)\n",
    "y_pred=xgb.predict(X_test)\n",
    "\n",
    "\n"
   ]
  },
  {
   "cell_type": "code",
   "execution_count": 13,
   "id": "14cb4cf6",
   "metadata": {},
   "outputs": [
    {
     "name": "stdout",
     "output_type": "stream",
     "text": [
      "mae:0.04316952009208106,rmse:0.056111260204743885\n"
     ]
    }
   ],
   "source": [
    "from math import sqrt\n",
    "from sklearn.metrics import mean_absolute_error\n",
    "from sklearn.metrics import mean_squared_error\n",
    "\n",
    "\n",
    "def evaluation(y_test, y_predict):\n",
    "    mae = mean_absolute_error(y_test, y_predict)\n",
    "    mse = mean_squared_error(y_test, y_predict)\n",
    "    rmse = sqrt(mean_squared_error(y_test, y_predict))\n",
    "    return mae, rmse\n",
    "\n",
    "mae,rmse=evaluation(y_test, y_pred)\n",
    "print('mae:{},rmse:{}'.format(mae,rmse))"
   ]
  },
  {
   "cell_type": "code",
   "execution_count": null,
   "id": "fea305fc",
   "metadata": {},
   "outputs": [],
   "source": [
    "#取对数\n",
    "# 线性回归模型:\n",
    "# mae:0.08575466092804905,rmse:0.09938170907406266\n",
    "# SVR模型:\n",
    "# mae:0.10048895463910852,rmse:0.14430292194504338\n",
    "\n",
    "\n",
    "# 归一化\n",
    "# 线性模型：\n",
    "# mae:0.14554254643808506,rmse:0.15959797490667044\n",
    "#100-150：mae:0.17576245618656097,rmse:0.35135613328270143\n",
    "# SVR模型:\n",
    "# 10-100：mae:0.05551163344347185,rmse:0.10401392864832236\n",
    "#100-150：mae:0.10294093245641811,rmse:0.1406126182119327\n",
    "#使用两个特征的结果 mae:0.07528818796971945,rmse:0.1334187348245085\n",
    "#SVR对异常值比较敏感\n",
    "# XGB模型：\n",
    "#mae:0.04316952009208106,rmse:0.056111260204743885,两个特征都用"
   ]
  },
  {
   "cell_type": "code",
   "execution_count": 100,
   "id": "e66bd9f5",
   "metadata": {},
   "outputs": [],
   "source": [
    "# print(y_pred)\n",
    "# print(y_test)"
   ]
  },
  {
   "cell_type": "code",
   "execution_count": null,
   "id": "20f5b52a",
   "metadata": {},
   "outputs": [],
   "source": []
  }
 ],
 "metadata": {
  "kernelspec": {
   "display_name": "Python 3 (ipykernel)",
   "language": "python",
   "name": "python3"
  },
  "language_info": {
   "codemirror_mode": {
    "name": "ipython",
    "version": 3
   },
   "file_extension": ".py",
   "mimetype": "text/x-python",
   "name": "python",
   "nbconvert_exporter": "python",
   "pygments_lexer": "ipython3",
   "version": "3.9.12"
  }
 },
 "nbformat": 4,
 "nbformat_minor": 5
}
