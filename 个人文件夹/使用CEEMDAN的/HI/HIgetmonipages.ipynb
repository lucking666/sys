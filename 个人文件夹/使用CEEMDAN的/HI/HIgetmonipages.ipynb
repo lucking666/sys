{
 "cells": [
  {
   "cell_type": "code",
   "execution_count": 20,
   "id": "15f4f6af",
   "metadata": {},
   "outputs": [],
   "source": [
    "import numpy as np\n",
    "import pandas as pd\n",
    "import matplotlib.pyplot as plt\n",
    "from sklearn import svm"
   ]
  },
  {
   "cell_type": "code",
   "execution_count": 21,
   "id": "0c9daab0",
   "metadata": {},
   "outputs": [],
   "source": [
    "feature1=pd.read_csv('Area10_100.csv')#第十次循环和第一百次循环的电压差之和\n",
    "feature2=pd.read_csv('Area100_150.csv')#第十次循环和第一百次循环的电压差之和\n",
    "label=pd.read_csv('Cycle_life.csv')#三个电池数据集的循环寿命"
   ]
  },
  {
   "cell_type": "code",
   "execution_count": 22,
   "id": "2f33100c",
   "metadata": {},
   "outputs": [],
   "source": [
    "feature1=feature1.iloc[:,-1]\n",
    "feature2=feature2.iloc[:,-1]\n",
    "label=label.iloc[:,-1]"
   ]
  },
  {
   "cell_type": "code",
   "execution_count": 23,
   "id": "1b4b7f34",
   "metadata": {},
   "outputs": [
    {
     "data": {
      "text/plain": [
       "0      0.002164\n",
       "1      0.004189\n",
       "2      0.004242\n",
       "3      0.011217\n",
       "4      0.007987\n",
       "         ...   \n",
       "119    0.012306\n",
       "120    0.016484\n",
       "121    0.014701\n",
       "122    0.016950\n",
       "123    0.011296\n",
       "Name: 0, Length: 124, dtype: float64"
      ]
     },
     "execution_count": 23,
     "metadata": {},
     "output_type": "execute_result"
    }
   ],
   "source": [
    "feature1"
   ]
  },
  {
   "cell_type": "code",
   "execution_count": 24,
   "id": "c4dac31f",
   "metadata": {},
   "outputs": [
    {
     "name": "stdout",
     "output_type": "stream",
     "text": [
      "            0         0\n",
      "0    0.002164  0.008169\n",
      "1    0.004189  0.008618\n",
      "2    0.004242  0.008344\n",
      "3    0.011217  0.010584\n",
      "4    0.007987  0.009057\n",
      "..        ...       ...\n",
      "119  0.012306  0.011697\n",
      "120  0.016484  0.011517\n",
      "121  0.014701  0.007465\n",
      "122  0.016950  0.008597\n",
      "123  0.011296  0.004812\n",
      "\n",
      "[124 rows x 2 columns]\n",
      "0      1852.0\n",
      "1      2160.0\n",
      "2      2237.0\n",
      "3      1434.0\n",
      "4      1709.0\n",
      "        ...  \n",
      "119    1156.0\n",
      "120     796.0\n",
      "121     786.0\n",
      "122     940.0\n",
      "123    1801.0\n",
      "Name: 0, Length: 124, dtype: float64\n"
     ]
    }
   ],
   "source": [
    "feature= pd.concat([feature1, feature2],axis=1)\n",
    "print(feature)\n",
    "print(label)"
   ]
  },
  {
   "cell_type": "code",
   "execution_count": 25,
   "id": "bb95c190",
   "metadata": {},
   "outputs": [
    {
     "name": "stdout",
     "output_type": "stream",
     "text": [
      "            0         0\n",
      "0    0.002164  0.008169\n",
      "1    0.004189  0.008618\n",
      "2    0.004242  0.008344\n",
      "3    0.011217  0.010584\n",
      "4    0.007987  0.009057\n",
      "..        ...       ...\n",
      "119  0.012306  0.011697\n",
      "120  0.016484  0.011517\n",
      "121  0.014701  0.007465\n",
      "122  0.016950  0.008597\n",
      "123  0.011296  0.004812\n",
      "\n",
      "[124 rows x 2 columns]\n",
      "0      1852.0\n",
      "1      2160.0\n",
      "2      2237.0\n",
      "3      1434.0\n",
      "4      1709.0\n",
      "        ...  \n",
      "119    1156.0\n",
      "120     796.0\n",
      "121     786.0\n",
      "122     940.0\n",
      "123    1801.0\n",
      "Name: 0, Length: 124, dtype: float64\n"
     ]
    }
   ],
   "source": [
    "\n",
    "print(feature)\n",
    "print(label)"
   ]
  },
  {
   "cell_type": "code",
   "execution_count": 26,
   "id": "eff02e8a",
   "metadata": {},
   "outputs": [],
   "source": [
    "# 归一化\n",
    "from sklearn.preprocessing import MinMaxScaler\n",
    "def normalization(data):\n",
    "    scaler = MinMaxScaler()\n",
    "    data=data.values   # 将pd的系列格式转换为np的数组格式\n",
    "    data=scaler.fit_transform(np.array(data).reshape(-1,1))  #\n",
    "    return data\n",
    "\n",
    "\n",
    "feature1_scale=normalization(feature1)\n",
    "feature2_scale=normalization(feature2)\n",
    "label_scale=normalization(label)\n"
   ]
  },
  {
   "cell_type": "code",
   "execution_count": 27,
   "id": "fe17f1d8",
   "metadata": {},
   "outputs": [
    {
     "name": "stdout",
     "output_type": "stream",
     "text": [
      "[[0.00000000e+00 1.34202845e-02]\n",
      " [4.17012922e-03 1.48245771e-02]\n",
      " [4.27963509e-03 1.39678830e-02]\n",
      " [1.86453846e-02 2.09733842e-02]\n",
      " [1.19927196e-02 1.61984209e-02]\n",
      " [3.40647960e-02 1.43463474e-02]\n",
      " [5.41295909e-02 6.28542823e-02]\n",
      " [5.47756931e-02 4.74668205e-02]\n",
      " [3.01820021e-02 3.82405114e-02]\n",
      " [1.61186234e-02 3.36323169e-02]\n",
      " [2.97369987e-02 3.26886702e-02]\n",
      " [2.61635107e-02 3.64130253e-02]\n",
      " [3.28680570e-02 3.21655016e-02]\n",
      " [2.51953473e-02 3.30548723e-02]\n",
      " [1.00000000e+00 9.15564074e-02]\n",
      " [5.77753601e-02 6.19441144e-02]\n",
      " [1.58050120e-01 1.59345521e-01]\n",
      " [1.28855427e-01 1.24144205e-01]\n",
      " [4.19558217e-02 2.72228980e-02]\n",
      " [4.00516513e-02 3.39821215e-02]\n",
      " [3.76913807e-02 3.71568493e-02]\n",
      " [5.86305626e-02 4.82331445e-02]\n",
      " [5.06561936e-02 4.47818522e-02]\n",
      " [5.36886558e-02 4.35637354e-02]\n",
      " [5.20198405e-02 4.41133896e-02]\n",
      " [5.90147834e-02 5.75946709e-02]\n",
      " [6.43963622e-02 5.22290256e-02]\n",
      " [6.71069488e-02 5.93488915e-02]\n",
      " [7.28637907e-02 6.06116382e-02]\n",
      " [4.83204601e-02 4.02362288e-02]\n",
      " [5.40546784e-02 4.83705314e-02]\n",
      " [6.75776935e-02 5.57587676e-02]\n",
      " [6.31146688e-02 5.67134500e-02]\n",
      " [8.43454675e-02 7.39083148e-02]\n",
      " [7.47865372e-02 7.06086644e-02]\n",
      " [3.98579640e-02 3.55236320e-02]\n",
      " [3.65536841e-02 3.17853074e-02]\n",
      " [6.17488757e-02 5.63127750e-02]\n",
      " [6.64465095e-02 5.30653462e-02]\n",
      " [1.00441685e-01 7.79139309e-02]\n",
      " [9.30414077e-02 7.44583899e-02]\n",
      " [3.40973204e-01 4.06267630e-01]\n",
      " [6.26076366e-01 1.00000000e+00]\n",
      " [6.08714502e-02 1.45426815e-01]\n",
      " [2.59888755e-01 3.43892826e-01]\n",
      " [1.32909745e-01 1.79405040e-01]\n",
      " [6.77767067e-02 1.02431054e-01]\n",
      " [1.97325616e-01 2.14317844e-01]\n",
      " [9.43425546e-02 1.19164076e-01]\n",
      " [8.97731687e-02 1.22862445e-01]\n",
      " [1.60326315e-01 1.82931378e-01]\n",
      " [1.54827429e-01 1.67647082e-01]\n",
      " [7.54812506e-02 9.58421728e-02]\n",
      " [5.57971470e-02 1.02698945e-01]\n",
      " [8.99175892e-02 1.62573751e-01]\n",
      " [1.55510678e-01 1.52591293e-01]\n",
      " [6.65750517e-02 1.01225736e-01]\n",
      " [1.05077339e-01 1.19798701e-01]\n",
      " [7.27012468e-02 1.12746815e-01]\n",
      " [1.07288830e-01 1.15538619e-01]\n",
      " [4.76966595e-02 1.18017190e-01]\n",
      " [8.17588755e-02 1.40508874e-01]\n",
      " [8.92154405e-02 1.49385758e-01]\n",
      " [5.60305373e-02 1.09743103e-01]\n",
      " [4.27582442e-02 7.93670885e-02]\n",
      " [3.98853304e-02 7.09172986e-02]\n",
      " [5.25584527e-02 9.53465702e-02]\n",
      " [5.33979058e-02 7.18894913e-02]\n",
      " [5.32104908e-02 7.85820912e-02]\n",
      " [5.18685137e-02 7.47498916e-02]\n",
      " [4.21365370e-02 5.91266845e-02]\n",
      " [7.36064466e-02 1.03221862e-01]\n",
      " [5.51838956e-02 7.59429297e-02]\n",
      " [5.71970779e-02 8.34585556e-02]\n",
      " [6.64307372e-02 9.47184933e-02]\n",
      " [6.85969583e-02 8.53903008e-02]\n",
      " [7.27892829e-02 1.13184072e-01]\n",
      " [5.04745131e-02 8.53030601e-02]\n",
      " [6.76124266e-02 1.06123483e-01]\n",
      " [8.64660570e-02 1.03709398e-01]\n",
      " [7.27947195e-02 9.59519403e-02]\n",
      " [7.00966487e-02 9.01098419e-02]\n",
      " [8.36092478e-02 9.41496766e-02]\n",
      " [3.91424558e-02 5.48758961e-02]\n",
      " [3.14622705e-02 7.28201314e-03]\n",
      " [3.41205124e-02 1.24508602e-02]\n",
      " [3.44769035e-02 1.33582983e-02]\n",
      " [2.98570515e-02 1.36095677e-02]\n",
      " [4.04348548e-02 2.27020055e-02]\n",
      " [1.61888503e-01 1.21542352e-01]\n",
      " [2.15368216e-02 5.92532931e-04]\n",
      " [3.59028913e-02 1.77642924e-02]\n",
      " [4.14461772e-02 1.48524078e-02]\n",
      " [2.39433028e-02 8.23988013e-03]\n",
      " [5.36068327e-02 2.86973130e-02]\n",
      " [4.67632743e-02 1.74054794e-02]\n",
      " [3.95995940e-02 2.77734373e-02]\n",
      " [3.71213309e-02 2.31660996e-02]\n",
      " [4.49961947e-02 2.22359658e-02]\n",
      " [1.79669589e-02 0.00000000e+00]\n",
      " [2.98588370e-02 2.93112668e-02]\n",
      " [4.04742462e-02 1.39151246e-02]\n",
      " [4.42269338e-02 1.44350062e-02]\n",
      " [3.59920960e-02 2.22842892e-02]\n",
      " [1.29948209e-01 9.39893542e-02]\n",
      " [4.54412657e-02 2.17816863e-02]\n",
      " [2.86180091e-02 1.73961609e-02]\n",
      " [2.95007767e-02 1.64602530e-02]\n",
      " [3.04930456e-02 1.89541165e-02]\n",
      " [3.55335208e-02 1.95365348e-02]\n",
      " [1.66562551e-01 1.32998686e-01]\n",
      " [3.46583277e-02 2.50299855e-02]\n",
      " [3.26268669e-02 1.85209936e-02]\n",
      " [5.22796945e-02 3.19104550e-02]\n",
      " [2.82101889e-02 1.61758692e-02]\n",
      " [3.59602702e-02 1.87367621e-02]\n",
      " [3.51657421e-02 1.67048509e-02]\n",
      " [3.72826382e-02 2.24122708e-02]\n",
      " [2.81099676e-02 5.87330927e-03]\n",
      " [2.08874175e-02 2.44516381e-02]\n",
      " [2.94918911e-02 2.38889626e-02]\n",
      " [2.58194322e-02 1.12213044e-02]\n",
      " [3.04507701e-02 1.47599155e-02]\n",
      " [1.88078335e-02 2.92443985e-03]]\n"
     ]
    }
   ],
   "source": [
    "feature_scale=np.concatenate([feature1_scale, feature2_scale],axis=1)\n",
    "print(feature_scale)"
   ]
  },
  {
   "cell_type": "code",
   "execution_count": 95,
   "id": "8e717c02",
   "metadata": {},
   "outputs": [
    {
     "data": {
      "text/html": [
       "<div>\n",
       "<style scoped>\n",
       "    .dataframe tbody tr th:only-of-type {\n",
       "        vertical-align: middle;\n",
       "    }\n",
       "\n",
       "    .dataframe tbody tr th {\n",
       "        vertical-align: top;\n",
       "    }\n",
       "\n",
       "    .dataframe thead th {\n",
       "        text-align: right;\n",
       "    }\n",
       "</style>\n",
       "<table border=\"1\" class=\"dataframe\">\n",
       "  <thead>\n",
       "    <tr style=\"text-align: right;\">\n",
       "      <th></th>\n",
       "      <th>0</th>\n",
       "      <th>0</th>\n",
       "    </tr>\n",
       "  </thead>\n",
       "  <tbody>\n",
       "    <tr>\n",
       "      <th>0</th>\n",
       "      <td>0.002164</td>\n",
       "      <td>0.008169</td>\n",
       "    </tr>\n",
       "    <tr>\n",
       "      <th>1</th>\n",
       "      <td>0.004189</td>\n",
       "      <td>0.008618</td>\n",
       "    </tr>\n",
       "    <tr>\n",
       "      <th>2</th>\n",
       "      <td>0.004242</td>\n",
       "      <td>0.008344</td>\n",
       "    </tr>\n",
       "    <tr>\n",
       "      <th>3</th>\n",
       "      <td>0.011217</td>\n",
       "      <td>0.010584</td>\n",
       "    </tr>\n",
       "    <tr>\n",
       "      <th>4</th>\n",
       "      <td>0.007987</td>\n",
       "      <td>0.009057</td>\n",
       "    </tr>\n",
       "    <tr>\n",
       "      <th>...</th>\n",
       "      <td>...</td>\n",
       "      <td>...</td>\n",
       "    </tr>\n",
       "    <tr>\n",
       "      <th>119</th>\n",
       "      <td>0.012306</td>\n",
       "      <td>0.011697</td>\n",
       "    </tr>\n",
       "    <tr>\n",
       "      <th>120</th>\n",
       "      <td>0.016484</td>\n",
       "      <td>0.011517</td>\n",
       "    </tr>\n",
       "    <tr>\n",
       "      <th>121</th>\n",
       "      <td>0.014701</td>\n",
       "      <td>0.007465</td>\n",
       "    </tr>\n",
       "    <tr>\n",
       "      <th>122</th>\n",
       "      <td>0.016950</td>\n",
       "      <td>0.008597</td>\n",
       "    </tr>\n",
       "    <tr>\n",
       "      <th>123</th>\n",
       "      <td>0.011296</td>\n",
       "      <td>0.004812</td>\n",
       "    </tr>\n",
       "  </tbody>\n",
       "</table>\n",
       "<p>124 rows × 2 columns</p>\n",
       "</div>"
      ],
      "text/plain": [
       "            0         0\n",
       "0    0.002164  0.008169\n",
       "1    0.004189  0.008618\n",
       "2    0.004242  0.008344\n",
       "3    0.011217  0.010584\n",
       "4    0.007987  0.009057\n",
       "..        ...       ...\n",
       "119  0.012306  0.011697\n",
       "120  0.016484  0.011517\n",
       "121  0.014701  0.007465\n",
       "122  0.016950  0.008597\n",
       "123  0.011296  0.004812\n",
       "\n",
       "[124 rows x 2 columns]"
      ]
     },
     "execution_count": 95,
     "metadata": {},
     "output_type": "execute_result"
    }
   ],
   "source": [
    "feature"
   ]
  },
  {
   "cell_type": "code",
   "execution_count": 7,
   "id": "0ec76789",
   "metadata": {},
   "outputs": [
    {
     "data": {
      "text/plain": [
       "0      1852.0\n",
       "1      2160.0\n",
       "2      2237.0\n",
       "3      1434.0\n",
       "4      1709.0\n",
       "        ...  \n",
       "119    1156.0\n",
       "120     796.0\n",
       "121     786.0\n",
       "122     940.0\n",
       "123    1801.0\n",
       "Name: 0, Length: 124, dtype: float64"
      ]
     },
     "execution_count": 7,
     "metadata": {},
     "output_type": "execute_result"
    }
   ],
   "source": [
    "label"
   ]
  },
  {
   "cell_type": "code",
   "execution_count": 28,
   "id": "3849543a",
   "metadata": {},
   "outputs": [
    {
     "name": "stdout",
     "output_type": "stream",
     "text": [
      "0      0.002164\n",
      "1      0.004189\n",
      "2      0.004242\n",
      "3      0.011217\n",
      "4      0.007987\n",
      "         ...   \n",
      "119    0.012306\n",
      "120    0.016484\n",
      "121    0.014701\n",
      "122    0.016950\n",
      "123    0.011296\n",
      "Name: 0, Length: 124, dtype: float64\n",
      "0      1852.0\n",
      "1      2160.0\n",
      "2      2237.0\n",
      "3      1434.0\n",
      "4      1709.0\n",
      "        ...  \n",
      "119    1156.0\n",
      "120     796.0\n",
      "121     786.0\n",
      "122     940.0\n",
      "123    1801.0\n",
      "Name: 0, Length: 124, dtype: float64\n"
     ]
    }
   ],
   "source": [
    "print(feature1)\n",
    "print(label)"
   ]
  },
  {
   "cell_type": "code",
   "execution_count": 84,
   "id": "9ec4f42b",
   "metadata": {},
   "outputs": [],
   "source": [
    "from sklearn.model_selection import train_test_split\n",
    "# #F1+F2\n",
    "X_train2,X_test2=feature_scale[:30,:],feature_scale[30:41,:]\n",
    "y_train2,y_test2=label_scale[:30],label_scale[30:41]\n",
    "\n",
    "#F1\n",
    "X_train,X_test=feature1_scale[:30],feature1_scale[30:41]\n",
    "y_train,y_test=label_scale[:30],label_scale[30:41]\n",
    "\n",
    "# #F2\n",
    "# X_train,X_test=feature2.iloc[:30],feature2.iloc[30:41]\n",
    "# y_train,y_test=label.iloc[:30],label.iloc[30:41]\n",
    "# dataset2dataset3\n",
    "# X_train,X_test=feature_scale[41:100,:],feature_scale[100:,:]\n",
    "# y_train,y_test=label_scale[41:100],label_scale[100:]\n"
   ]
  },
  {
   "cell_type": "code",
   "execution_count": 59,
   "id": "ab29eff4",
   "metadata": {},
   "outputs": [
    {
     "name": "stdout",
     "output_type": "stream",
     "text": [
      "(30, 1)\n",
      "(30, 1)\n"
     ]
    }
   ],
   "source": [
    "print(X_train.shape)\n",
    "print(y_train.shape)"
   ]
  },
  {
   "cell_type": "code",
   "execution_count": 90,
   "id": "3ab9dccf",
   "metadata": {},
   "outputs": [
    {
     "name": "stderr",
     "output_type": "stream",
     "text": [
      "E:\\Anancanda\\lib\\site-packages\\sklearn\\utils\\validation.py:993: DataConversionWarning: A column-vector y was passed when a 1d array was expected. Please change the shape of y to (n_samples, ), for example using ravel().\n",
      "  y = column_or_1d(y, warn=True)\n"
     ]
    },
    {
     "ename": "ValueError",
     "evalue": "Feature shape mismatch, expected: 2, got 1",
     "output_type": "error",
     "traceback": [
      "\u001b[1;31m---------------------------------------------------------------------------\u001b[0m",
      "\u001b[1;31mValueError\u001b[0m                                Traceback (most recent call last)",
      "Input \u001b[1;32mIn [90]\u001b[0m, in \u001b[0;36m<cell line: 15>\u001b[1;34m()\u001b[0m\n\u001b[0;32m     13\u001b[0m xgb \u001b[38;5;241m=\u001b[39m xgb\u001b[38;5;241m.\u001b[39mXGBRegressor()\n\u001b[0;32m     14\u001b[0m xgb\u001b[38;5;241m.\u001b[39mfit(X_train2, y_train2)\n\u001b[1;32m---> 15\u001b[0m y_pred\u001b[38;5;241m=\u001b[39m\u001b[43mxgb\u001b[49m\u001b[38;5;241;43m.\u001b[39;49m\u001b[43mpredict\u001b[49m\u001b[43m(\u001b[49m\u001b[43mX_test\u001b[49m\u001b[43m)\u001b[49m\n",
      "File \u001b[1;32mE:\\Anancanda\\lib\\site-packages\\xgboost\\sklearn.py:1049\u001b[0m, in \u001b[0;36mXGBModel.predict\u001b[1;34m(self, X, output_margin, ntree_limit, validate_features, base_margin, iteration_range)\u001b[0m\n\u001b[0;32m   1047\u001b[0m \u001b[38;5;28;01mif\u001b[39;00m \u001b[38;5;28mself\u001b[39m\u001b[38;5;241m.\u001b[39m_can_use_inplace_predict():\n\u001b[0;32m   1048\u001b[0m     \u001b[38;5;28;01mtry\u001b[39;00m:\n\u001b[1;32m-> 1049\u001b[0m         predts \u001b[38;5;241m=\u001b[39m \u001b[38;5;28;43mself\u001b[39;49m\u001b[38;5;241;43m.\u001b[39;49m\u001b[43mget_booster\u001b[49m\u001b[43m(\u001b[49m\u001b[43m)\u001b[49m\u001b[38;5;241;43m.\u001b[39;49m\u001b[43minplace_predict\u001b[49m\u001b[43m(\u001b[49m\n\u001b[0;32m   1050\u001b[0m \u001b[43m            \u001b[49m\u001b[43mdata\u001b[49m\u001b[38;5;241;43m=\u001b[39;49m\u001b[43mX\u001b[49m\u001b[43m,\u001b[49m\n\u001b[0;32m   1051\u001b[0m \u001b[43m            \u001b[49m\u001b[43miteration_range\u001b[49m\u001b[38;5;241;43m=\u001b[39;49m\u001b[43miteration_range\u001b[49m\u001b[43m,\u001b[49m\n\u001b[0;32m   1052\u001b[0m \u001b[43m            \u001b[49m\u001b[43mpredict_type\u001b[49m\u001b[38;5;241;43m=\u001b[39;49m\u001b[38;5;124;43m\"\u001b[39;49m\u001b[38;5;124;43mmargin\u001b[39;49m\u001b[38;5;124;43m\"\u001b[39;49m\u001b[43m \u001b[49m\u001b[38;5;28;43;01mif\u001b[39;49;00m\u001b[43m \u001b[49m\u001b[43moutput_margin\u001b[49m\u001b[43m \u001b[49m\u001b[38;5;28;43;01melse\u001b[39;49;00m\u001b[43m \u001b[49m\u001b[38;5;124;43m\"\u001b[39;49m\u001b[38;5;124;43mvalue\u001b[39;49m\u001b[38;5;124;43m\"\u001b[39;49m\u001b[43m,\u001b[49m\n\u001b[0;32m   1053\u001b[0m \u001b[43m            \u001b[49m\u001b[43mmissing\u001b[49m\u001b[38;5;241;43m=\u001b[39;49m\u001b[38;5;28;43mself\u001b[39;49m\u001b[38;5;241;43m.\u001b[39;49m\u001b[43mmissing\u001b[49m\u001b[43m,\u001b[49m\n\u001b[0;32m   1054\u001b[0m \u001b[43m            \u001b[49m\u001b[43mbase_margin\u001b[49m\u001b[38;5;241;43m=\u001b[39;49m\u001b[43mbase_margin\u001b[49m\u001b[43m,\u001b[49m\n\u001b[0;32m   1055\u001b[0m \u001b[43m            \u001b[49m\u001b[43mvalidate_features\u001b[49m\u001b[38;5;241;43m=\u001b[39;49m\u001b[43mvalidate_features\u001b[49m\u001b[43m,\u001b[49m\n\u001b[0;32m   1056\u001b[0m \u001b[43m        \u001b[49m\u001b[43m)\u001b[49m\n\u001b[0;32m   1057\u001b[0m         \u001b[38;5;28;01mif\u001b[39;00m _is_cupy_array(predts):\n\u001b[0;32m   1058\u001b[0m             \u001b[38;5;28;01mimport\u001b[39;00m \u001b[38;5;21;01mcupy\u001b[39;00m     \u001b[38;5;66;03m# pylint: disable=import-error\u001b[39;00m\n",
      "File \u001b[1;32mE:\\Anancanda\\lib\\site-packages\\xgboost\\core.py:2128\u001b[0m, in \u001b[0;36mBooster.inplace_predict\u001b[1;34m(self, data, iteration_range, predict_type, missing, validate_features, base_margin, strict_shape)\u001b[0m\n\u001b[0;32m   2124\u001b[0m         \u001b[38;5;28;01mraise\u001b[39;00m \u001b[38;5;167;01mTypeError\u001b[39;00m(\n\u001b[0;32m   2125\u001b[0m             \u001b[38;5;124m\"\u001b[39m\u001b[38;5;124m`shape` attribute is required when `validate_features` is True.\u001b[39m\u001b[38;5;124m\"\u001b[39m\n\u001b[0;32m   2126\u001b[0m         )\n\u001b[0;32m   2127\u001b[0m     \u001b[38;5;28;01mif\u001b[39;00m \u001b[38;5;28mlen\u001b[39m(data\u001b[38;5;241m.\u001b[39mshape) \u001b[38;5;241m!=\u001b[39m \u001b[38;5;241m1\u001b[39m \u001b[38;5;129;01mand\u001b[39;00m \u001b[38;5;28mself\u001b[39m\u001b[38;5;241m.\u001b[39mnum_features() \u001b[38;5;241m!=\u001b[39m data\u001b[38;5;241m.\u001b[39mshape[\u001b[38;5;241m1\u001b[39m]:\n\u001b[1;32m-> 2128\u001b[0m         \u001b[38;5;28;01mraise\u001b[39;00m \u001b[38;5;167;01mValueError\u001b[39;00m(\n\u001b[0;32m   2129\u001b[0m             \u001b[38;5;124mf\u001b[39m\u001b[38;5;124m\"\u001b[39m\u001b[38;5;124mFeature shape mismatch, expected: \u001b[39m\u001b[38;5;132;01m{\u001b[39;00m\u001b[38;5;28mself\u001b[39m\u001b[38;5;241m.\u001b[39mnum_features()\u001b[38;5;132;01m}\u001b[39;00m\u001b[38;5;124m, \u001b[39m\u001b[38;5;124m\"\u001b[39m\n\u001b[0;32m   2130\u001b[0m             \u001b[38;5;124mf\u001b[39m\u001b[38;5;124m\"\u001b[39m\u001b[38;5;124mgot \u001b[39m\u001b[38;5;132;01m{\u001b[39;00mdata\u001b[38;5;241m.\u001b[39mshape[\u001b[38;5;241m1\u001b[39m]\u001b[38;5;132;01m}\u001b[39;00m\u001b[38;5;124m\"\u001b[39m\n\u001b[0;32m   2131\u001b[0m         )\n\u001b[0;32m   2133\u001b[0m \u001b[38;5;28;01mfrom\u001b[39;00m \u001b[38;5;21;01m.\u001b[39;00m\u001b[38;5;21;01mdata\u001b[39;00m \u001b[38;5;28;01mimport\u001b[39;00m (\n\u001b[0;32m   2134\u001b[0m     _is_pandas_df,\n\u001b[0;32m   2135\u001b[0m     _transform_pandas_df,\n\u001b[1;32m   (...)\u001b[0m\n\u001b[0;32m   2138\u001b[0m     _array_interface,\n\u001b[0;32m   2139\u001b[0m )\n\u001b[0;32m   2140\u001b[0m enable_categorical \u001b[38;5;241m=\u001b[39m _has_categorical(\u001b[38;5;28mself\u001b[39m, data)\n",
      "\u001b[1;31mValueError\u001b[0m: Feature shape mismatch, expected: 2, got 1"
     ]
    }
   ],
   "source": [
    "from sklearn.linear_model import LinearRegression,Ridge,Lasso\n",
    "import xgboost as xgb\n",
    "\n",
    "\n",
    "model1=svm.SVR()\n",
    "model1.fit(X_train,y_train)\n",
    "#y_pred=model1.predict(X_test)\n",
    "\n",
    "lr=LinearRegression().fit(X_train,y_train)\n",
    "# y_pred=lr.predict(X_test)\n",
    "\n",
    "\n",
    "xgb = xgb.XGBRegressor()\n",
    "xgb.fit(X_train2, y_train2)\n",
    "y_pred=xgb.predict(X_test)\n",
    "\n",
    "\n"
   ]
  },
  {
   "cell_type": "code",
   "execution_count": 106,
   "id": "04d47cca",
   "metadata": {},
   "outputs": [
    {
     "name": "stdout",
     "output_type": "stream",
     "text": [
      "[[0.26567736]\n",
      " [0.26615606]\n",
      " [0.23934897]\n",
      " [0.22450933]\n",
      " [0.22833892]\n",
      " [0.39157492]\n",
      " [0.43226424]\n",
      " [0.26519866]\n",
      " [0.24078506]\n",
      " [0.22403064]\n",
      " [0.21589277]]\n",
      "(11, 1)\n",
      "(11,)\n"
     ]
    }
   ],
   "source": [
    "y_pred_page1=model1.predict(feature1_scale[30:41])\n",
    "#y_pred_page2=model1.predict(feature2_scale[30:41])\n",
    "y_pred_page3=lr.predict(feature1_scale[30:41])\n",
    "y_pred_page4=xgb.predict(feature_scale[30:41])\n",
    "y_test_page=label_scale[30:41]\n",
    "print(label_scale[30:41])\n",
    "print(y_test_page.shape)\n",
    "print(y_pred_page2.shape)"
   ]
  },
  {
   "cell_type": "code",
   "execution_count": 111,
   "id": "951cc1ae",
   "metadata": {},
   "outputs": [
    {
     "data": {
      "image/png": "[encoded data removed]",
      "text/plain": [
       "<Figure size 432x288 with 1 Axes>"
      ]
     },
     "metadata": {
      "needs_background": "light"
     },
     "output_type": "display_data"
    }
   ],
   "source": [
    "# x=np.arange(len(y_pred_page1))\n",
    "# plt.scatter(x,y_pred_page1,c='r',label='SVR')\n",
    "# #plt.plot(x,y_pred_page2,c='y',label='SVR2')#,linestyle='- '\n",
    "# plt.scatter(x,y_test_page,c='k',label='observe')\n",
    "# plt.scatter(x,y_pred_page3,c='b',label='LR')\n",
    "# plt.scatter(x,y_pred_page4,c='g',label='XGB')\n",
    "# # plt.title(\"。。。。\")\n",
    "# plt.xlabel(\"sample number\")\n",
    "# plt.ylabel(\"Cycle_life\")\n",
    "# plt.yticks([])\n",
    "# plt.legend()\n",
    "# # plt.text(30,0.06, r'ρ=-0.78', fontsize=12)\n",
    "# # plt.colorbar()\n",
    "# plt.savefig( 'Cycle life prediction using diffrent methods scatter.png')\n",
    "\n",
    "\n",
    "x=np.arange(len(y_pred_page1))\n",
    "plt.plot(x,y_pred_page1,c='r',label='SVR')\n",
    "#plt.plot(x,y_pred_page2,c='y',label='SVR2')#,linestyle='- '\n",
    "plt.plot(x,y_test_page,c='k',label='observe')\n",
    "plt.plot(x,y_pred_page3,c='b',label='LR')\n",
    "plt.plot(x,y_pred_page4,c='g',label='XGB')\n",
    "# plt.title(\"。。。。\")\n",
    "plt.xlabel(\"sample number\")\n",
    "plt.ylabel(\"Cycle_life\")\n",
    "plt.yticks([])\n",
    "plt.legend()\n",
    "# plt.text(30,0.06, r'ρ=-0.78', fontsize=12)\n",
    "# plt.colorbar()\n",
    "plt.savefig( 'Cycle life prediction using diffrent methods plot.png')"
   ]
  },
  {
   "cell_type": "code",
   "execution_count": 100,
   "id": "14cb4cf6",
   "metadata": {},
   "outputs": [
    {
     "name": "stdout",
     "output_type": "stream",
     "text": [
      "mae:0.06726115099394243,rmse:0.08577031266558778\n"
     ]
    }
   ],
   "source": [
    "from math import sqrt\n",
    "from sklearn.metrics import mean_absolute_error\n",
    "from sklearn.metrics import mean_squared_error\n",
    "\n",
    "\n",
    "def evaluation(y_test, y_predict):\n",
    "    mae = mean_absolute_error(y_test, y_predict)\n",
    "    mse = mean_squared_error(y_test, y_predict)\n",
    "    rmse = sqrt(mean_squared_error(y_test, y_predict))\n",
    "    return mae, rmse\n",
    "\n",
    "mae,rmse=evaluation(y_test, y_pred)\n",
    "print('mae:{},rmse:{}'.format(mae,rmse))"
   ]
  },
  {
   "cell_type": "code",
   "execution_count": null,
   "id": "8eb67c39",
   "metadata": {},
   "outputs": [],
   "source": []
  },
  {
   "cell_type": "code",
   "execution_count": null,
   "id": "41cc3e79",
   "metadata": {},
   "outputs": [],
   "source": [
    "# 分开归一化\n",
    "# LR\n",
    "# mae:0.1508326005364663,rmse:0.270294857699023F1\n",
    "# mae:0.23126234227880718,rmse:0.2801090391925503F2\n",
    "# SVR\n",
    "# mae:0.23913681662920724,rmse:0.2937111651967422F1\n",
    "# mae:0.11299691125253516,rmse:0.16250202760649674F2\n",
    "# mae:0.1869306596774142,rmse:0.2225996692858093F1+F2\n",
    "# XGB\n",
    "# mae:0.12875475873683642,rmse:0.1972147421982882\n",
    "\n",
    "# dataset2+3\n",
    "# LR\n",
    "# mae:mae:0.15495524939748181,rmse:0.2226333766263237F1\n",
    "# mae:0.15898299576206953,rmse:0.22808321986857444\n",
    "# SVR\n",
    "# mae:0.17679303735183272,rmse:0.22686753177901534F1\n",
    "# mae:0.14850697975071644,rmse:0.18664264739923803F2\n",
    "# mae:0.19689973716252882,rmse:0.23512937221407415F1+F2\n",
    "# XGB\n",
    "# mae:0.14075410227854823,rmse:0.20011201934539694"
   ]
  },
  {
   "cell_type": "code",
   "execution_count": null,
   "id": "fea305fc",
   "metadata": {},
   "outputs": [],
   "source": [
    "#取对数\n",
    "# 线性回归模型:\n",
    "# mae:0.08575466092804905,rmse:0.09938170907406266\n",
    "# SVR模型:\n",
    "# mae:0.10048895463910852,rmse:0.14430292194504338\n",
    "\n",
    "\n",
    "# 归一化\n",
    "# 线性模型：\n",
    "# mae:0.14554254643808506,rmse:0.15959797490667044\n",
    "#100-150：mae:0.17576245618656097,rmse:0.35135613328270143\n",
    "# SVR模型:\n",
    "# 10-100：mae:0.05551163344347185,rmse:0.10401392864832236\n",
    "#100-150：mae:0.10294093245641811,rmse:0.1406126182119327\n",
    "#使用两个特征的结果 mae:0.07528818796971945,rmse:0.1334187348245085\n",
    "#SVR对异常值比较敏感\n",
    "# XGB模型：\n",
    "#mae:0.04316952009208106,rmse:0.056111260204743885,两个特征都用\n",
    "\n",
    "# 使用后面的83个电池cell，42-100/100-124,\n",
    "# XGBmae:0.09023486577076634,rmse:0.12952956179057631两个特征\n",
    "# SVR:F1:mae:0.10201942865753706,rmse:0.13481411070914512\n",
    "#     F2:mae:0.09515422435517999,rmse:0.12491692271671737\n",
    "#     mae:0.15495524939748181,rmse:0.2226333766263237\n",
    "# LR:F1:mae:0.1658823916925556,rmse:0.2167357628726603\n",
    "#    F2:mae:mae:0.15396125125448012,rmse:0.20766568294709048"
   ]
  },
  {
   "cell_type": "code",
   "execution_count": 100,
   "id": "e66bd9f5",
   "metadata": {},
   "outputs": [],
   "source": []
  },
  {
   "cell_type": "code",
   "execution_count": null,
   "id": "20f5b52a",
   "metadata": {},
   "outputs": [],
   "source": []
  }
 ],
 "metadata": {
  "kernelspec": {
   "display_name": "Python 3 (ipykernel)",
   "language": "python",
   "name": "python3"
  },
  "language_info": {
   "codemirror_mode": {
    "name": "ipython",
    "version": 3
   },
   "file_extension": ".py",
   "mimetype": "text/x-python",
   "name": "python",
   "nbconvert_exporter": "python",
   "pygments_lexer": "ipython3",
   "version": "3.9.12"
  }
 },
 "nbformat": 4,
 "nbformat_minor": 5
}
