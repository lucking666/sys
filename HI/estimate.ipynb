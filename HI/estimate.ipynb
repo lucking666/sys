{
 "cells": [
  {
   "cell_type": "code",
   "execution_count": 3,
   "id": "64b3cedb",
   "metadata": {},
   "outputs": [
    {
     "name": "stdout",
     "output_type": "stream",
     "text": [
      "+----------+------+------+--------+\n",
      "|   姓名   | 性别 | 年龄 |  存款  |\n",
      "+----------+------+------+--------+\n",
      "|   赵一   |  男  |  20  | 100000 |\n",
      "|   钱二   |  男  |  21  |  500   |\n",
      "|   孙三   |  男  |  22  | 400.7  |\n",
      "|   李四   |  男  |  23  | 619.5  |\n",
      "|   周五   |  男  |  24  | 1214.8 |\n",
      "|   吴六   |  女  |  25  | 646.9  |\n",
      "|   郑七   |  女  |  26  | 869.4  |\n",
      "| 王七加一 |  男  |  21  | 869.4  |\n",
      "+----------+------+------+--------+\n"
     ]
    }
   ],
   "source": [
    "#!/usr/bin/env python\n",
    "# -*- coding:utf-8 -*-\n",
    "#Author: ####\n",
    "\n",
    "from prettytable import PrettyTable\n",
    "x = PrettyTable([\"XGB\", \"性别\", \"年龄\", \"存款\"])\n",
    " \n",
    "x.align[\"姓名\"] = \"1\" #以姓名字段左对齐\n",
    "x.padding_width = 1  # 填充宽度\n",
    "x.add_row([\"赵一\",\"男\", 20, 100000])\n",
    "x.add_row([\"钱二\",\"男\", 21, 500])\n",
    "x.add_row([\"孙三\", \"男\", 22, 400.7])\n",
    "x.add_row([\"李四\", \"男\", 23, 619.5])\n",
    "x.add_row([\"周五\", \"男\", 24, 1214.8])\n",
    "x.add_row([\"吴六\", \"女\", 25, 646.9])\n",
    "x.add_row([\"郑七\", \"女\", 26, 869.4])\n",
    "x.add_row([\"王七加一\", \"男\", 21, 869.4])\n",
    " \n",
    "print(x)"
   ]
  },
  {
   "cell_type": "code",
   "execution_count": 2,
   "id": "29561060",
   "metadata": {},
   "outputs": [
    {
     "name": "stdout",
     "output_type": "stream",
     "text": [
      "Collecting prettytable\n",
      "  Downloading prettytable-3.6.0-py3-none-any.whl (27 kB)Note: you may need to restart the kernel to use updated packages.\n",
      "\n",
      "Requirement already satisfied: wcwidth in e:\\anancanda\\lib\\site-packages (from prettytable) (0.2.5)\n",
      "Installing collected packages: prettytable\n",
      "Successfully installed prettytable-3.6.0\n"
     ]
    }
   ],
   "source": [
    "pip install prettytable"
   ]
  },
  {
   "cell_type": "code",
   "execution_count": null,
   "id": "5d85270e",
   "metadata": {},
   "outputs": [],
   "source": []
  }
 ],
 "metadata": {
  "kernelspec": {
   "display_name": "Python 3 (ipykernel)",
   "language": "python",
   "name": "python3"
  },
  "language_info": {
   "codemirror_mode": {
    "name": "ipython",
    "version": 3
   },
   "file_extension": ".py",
   "mimetype": "text/x-python",
   "name": "python",
   "nbconvert_exporter": "python",
   "pygments_lexer": "ipython3",
   "version": "3.9.12"
  }
 },
 "nbformat": 4,
 "nbformat_minor": 5
}
